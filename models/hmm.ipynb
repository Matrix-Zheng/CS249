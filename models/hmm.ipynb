{
 "cells": [
  {
   "cell_type": "code",
   "execution_count": 1,
   "metadata": {},
   "outputs": [],
   "source": [
    "from hmmlearn import hmm\n",
    "import numpy as np"
   ]
  },
  {
   "cell_type": "code",
   "execution_count": 2,
   "metadata": {},
   "outputs": [],
   "source": [
    "train_X = np.load('../data/mfcc_feat/train.npy')\n",
    "dev_X = np.load('../data/mfcc_feat/dev.npy')\n",
    "test_X = np.load('../data/mfcc_feat/test.npy')\n",
    "\n",
    "train_y = np.load('../data/labels/train_frame.npy')\n",
    "dev_y = np.load('../data/labels/dev_frame.npy')"
   ]
  },
  {
   "cell_type": "code",
   "execution_count": 3,
   "metadata": {},
   "outputs": [],
   "source": [
    "class Model:\n",
    "    def __init__(self, CATEGORY=None, n_comp=1, n_mix=1, cov_type='full', n_iter=100000):\n",
    "        self.n_comp = n_comp\n",
    "        self.n_mix = n_mix\n",
    "        self.cov_type = cov_type\n",
    "        self.n_iter = n_iter\n",
    "        self.CATEGORY = CATEGORY # 二分类任务\n",
    "        \n",
    "        self.models = [hmm.GMMHMM(n_components=self.n_comp, n_mix=self.n_mix, \n",
    "            covariance_type=self.cov_type, n_iter=self.n_iter) \n",
    "            for _ in range(len(self.CATEGORY))]\n",
    "        \n",
    "    def train(self, X, y):\n",
    "        for k in range(len(self.CATEGORY)):\n",
    "            self.models[k].fit(X[y==self.CATEGORY[k]])\n",
    "    \n",
    "    def predict(self, X):\n",
    "        y = np.zeros((len(self.CATEGORY), X.shape[0]))\n",
    "\n",
    "        for i in range(len(self.CATEGORY)):\n",
    "            y[i] = np.array([self.models[i].score(X[idx:idx+1]) for idx in range(X.shape[0])])\n",
    "            print(\"Done! \")\n",
    "            \n",
    "        return y"
   ]
  },
  {
   "cell_type": "code",
   "execution_count": 4,
   "metadata": {},
   "outputs": [],
   "source": [
    "model = Model(CATEGORY=[0, 1])"
   ]
  },
  {
   "cell_type": "code",
   "execution_count": 5,
   "metadata": {},
   "outputs": [],
   "source": [
    "model.train(train_X, train_y)"
   ]
  },
  {
   "cell_type": "code",
   "execution_count": 6,
   "metadata": {},
   "outputs": [
    {
     "name": "stdout",
     "output_type": "stream",
     "text": [
      "Done! \n",
      "Done! \n"
     ]
    }
   ],
   "source": [
    "test_y = model.predict(test_X)"
   ]
  },
  {
   "cell_type": "code",
   "execution_count": 7,
   "metadata": {},
   "outputs": [
    {
     "data": {
      "text/plain": [
       "array([[-101.52144488, -105.40217456, -101.41676839, ..., -100.78542477,\n",
       "         -98.19454608,  -96.54382467],\n",
       "       [-105.40874737, -107.16159638, -104.45846915, ..., -106.7709233 ,\n",
       "        -103.12819841, -101.75027524]])"
      ]
     },
     "execution_count": 7,
     "metadata": {},
     "output_type": "execute_result"
    }
   ],
   "source": [
    "test_y"
   ]
  },
  {
   "cell_type": "code",
   "execution_count": 10,
   "metadata": {},
   "outputs": [],
   "source": [
    "y_pred = test_y.argmax(axis=0)"
   ]
  }
 ],
 "metadata": {
  "interpreter": {
   "hash": "01e2b291520104204c2757690fe854397a0c17b7702d2046cf9d41e45fc90858"
  },
  "kernelspec": {
   "display_name": "Python 3.8.12 ('wav2vec': conda)",
   "language": "python",
   "name": "python3"
  },
  "language_info": {
   "codemirror_mode": {
    "name": "ipython",
    "version": 3
   },
   "file_extension": ".py",
   "mimetype": "text/x-python",
   "name": "python",
   "nbconvert_exporter": "python",
   "pygments_lexer": "ipython3",
   "version": "3.8.12"
  },
  "orig_nbformat": 4
 },
 "nbformat": 4,
 "nbformat_minor": 2
}
