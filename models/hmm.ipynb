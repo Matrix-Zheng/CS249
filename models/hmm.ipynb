{
 "cells": [
  {
   "cell_type": "code",
   "execution_count": 1,
   "metadata": {},
   "outputs": [],
   "source": [
    "from hmmlearn import hmm\n",
    "import numpy as np"
   ]
  },
  {
   "cell_type": "code",
   "execution_count": 2,
   "metadata": {},
   "outputs": [],
   "source": [
    "train_X = np.load('../data/mfcc_feat/train.npy')\n",
    "dev_X = np.load('../data/mfcc_feat/dev.npy')\n",
    "test_X = np.load('../data/mfcc_feat/test.npy')\n",
    "\n",
    "train_y = np.load('../data/labels/train_frame.npy')\n",
    "dev_y = np.load('../data/labels/dev_frame.npy')"
   ]
  },
  {
   "cell_type": "code",
   "execution_count": 3,
   "metadata": {},
   "outputs": [],
   "source": [
    "class Model:\n",
    "    def __init__(self, CATEGORY=None, n_comp=1, n_mix=1, cov_type='full', n_iter=100000):\n",
    "        self.n_comp = n_comp\n",
    "        self.n_mix = n_mix\n",
    "        self.cov_type = cov_type\n",
    "        self.n_iter = n_iter\n",
    "        self.CATEGORY = CATEGORY # 二分类任务\n",
    "        \n",
    "        self.models = [hmm.GMMHMM(n_components=self.n_comp, n_mix=self.n_mix, \n",
    "            covariance_type=self.cov_type, n_iter=self.n_iter) \n",
    "            for _ in range(len(self.CATEGORY))]\n",
    "        \n",
    "    def train(self, X, y):\n",
    "        for k in range(len(self.CATEGORY)):\n",
    "            self.models[k].fit(X[y==self.CATEGORY[k]])\n",
    "    \n",
    "    def predict(self, X):\n",
    "        y = np.zeros((len(self.CATEGORY), X.shape[0]))\n",
    "\n",
    "        for i in range(len(self.CATEGORY)):\n",
    "            y[i] = np.array([self.models[i].score(X[idx:idx+1]) for idx in range(X.shape[0])])\n",
    "        \n",
    "        return y.argmax(axis=0)"
   ]
  },
  {
   "cell_type": "code",
   "execution_count": 4,
   "metadata": {},
   "outputs": [],
   "source": [
    "model = Model(CATEGORY=[0, 1])"
   ]
  },
  {
   "cell_type": "code",
   "execution_count": 5,
   "metadata": {},
   "outputs": [],
   "source": [
    "model.train(train_X, train_y)"
   ]
  },
  {
   "cell_type": "code",
   "execution_count": 6,
   "metadata": {},
   "outputs": [],
   "source": [
    "test_pred = model.predict(test_X)"
   ]
  },
  {
   "cell_type": "code",
   "execution_count": 12,
   "metadata": {},
   "outputs": [],
   "source": [
    "dev_pred = model.predict(dev_X)"
   ]
  },
  {
   "cell_type": "code",
   "execution_count": 8,
   "metadata": {},
   "outputs": [],
   "source": [
    "from npy_append_array import NpyAppendArray"
   ]
  },
  {
   "cell_type": "code",
   "execution_count": 14,
   "metadata": {},
   "outputs": [],
   "source": [
    "with NpyAppendArray('../results/dev_frame.npy') as npaa:\n",
    "    npaa.append(dev_pred)"
   ]
  },
  {
   "cell_type": "code",
   "execution_count": 9,
   "metadata": {},
   "outputs": [],
   "source": [
    "with NpyAppendArray('../results/test_frame.npy') as npaa:\n",
    "    npaa.append(test_pred)"
   ]
  }
 ],
 "metadata": {
  "interpreter": {
   "hash": "01e2b291520104204c2757690fe854397a0c17b7702d2046cf9d41e45fc90858"
  },
  "kernelspec": {
   "display_name": "Python 3.8.12 ('wav2vec': conda)",
   "language": "python",
   "name": "python3"
  },
  "language_info": {
   "codemirror_mode": {
    "name": "ipython",
    "version": 3
   },
   "file_extension": ".py",
   "mimetype": "text/x-python",
   "name": "python",
   "nbconvert_exporter": "python",
   "pygments_lexer": "ipython3",
   "version": "3.8.12"
  },
  "orig_nbformat": 4
 },
 "nbformat": 4,
 "nbformat_minor": 2
}
