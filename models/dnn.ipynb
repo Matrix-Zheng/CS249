{
 "cells": [
  {
   "cell_type": "code",
   "execution_count": 1,
   "metadata": {},
   "outputs": [
    {
     "name": "stderr",
     "output_type": "stream",
     "text": [
      "/opt/conda/envs/wav2vec/lib/python3.8/site-packages/tqdm/auto.py:22: TqdmWarning: IProgress not found. Please update jupyter and ipywidgets. See https://ipywidgets.readthedocs.io/en/stable/user_install.html\n",
      "  from .autonotebook import tqdm as notebook_tqdm\n"
     ]
    }
   ],
   "source": [
    "import torch\n",
    "import torch.nn\n",
    "import torch.nn.functional as F\n",
    "\n",
    "import numpy as np\n",
    "\n",
    "from torch.utils.data import DataLoader\n",
    "\n",
    "np.random.seed(42)"
   ]
  },
  {
   "cell_type": "code",
   "execution_count": 2,
   "metadata": {},
   "outputs": [],
   "source": [
    "X = np.load('../data/mfcc_feat/train.npy')\n",
    "y = np.load('../data/labels/train_frame.npy')"
   ]
  },
  {
   "cell_type": "code",
   "execution_count": 4,
   "metadata": {},
   "outputs": [],
   "source": [
    "trainloader = torch.utils.data.DataLoader(\n",
    "    [[X[i], y[i]] for i in range(y.shape[0])], shuffle=True, batch_size=64)"
   ]
  },
  {
   "cell_type": "code",
   "execution_count": null,
   "metadata": {},
   "outputs": [],
   "source": [
    "class Block2D(nn.Module):\n",
    "    def __init__(self, cin, cout, kernel_size=3, padding=1):\n",
    "        super().__init__()\n",
    "        self.block = nn.Sequential(\n",
    "            nn.BatchNorm2d(cin),\n",
    "            nn.Conv2d(cin,\n",
    "                      cout,\n",
    "                      kernel_size=kernel_size,\n",
    "                      padding=padding,\n",
    "                      bias=False),\n",
    "            nn.LeakyReLU(inplace=True, negative_slope=0.1))\n",
    "\n",
    "    def forward(self, x):\n",
    "        return self.block(x)"
   ]
  },
  {
   "cell_type": "code",
   "execution_count": null,
   "metadata": {},
   "outputs": [],
   "source": [
    "class CRNN(nn.Module):\n",
    "    def __init__(self, inputdim, outputdim, **kwargs):\n",
    "        super().__init__()\n",
    "        features = nn.ModuleList()\n",
    "        self.features = nn.Sequential(\n",
    "            Block2D(1, 32),\n",
    "            nn.LPPool2d(4, (2, 4)),\n",
    "            Block2D(32, 128),\n",
    "            Block2D(128, 128),\n",
    "            nn.LPPool2d(4, (2, 4)),\n",
    "            Block2D(128, 128),\n",
    "            Block2D(128, 128),\n",
    "            nn.LPPool2d(4, (1, 4)),\n",
    "            nn.Dropout(0.3),\n",
    "        )\n",
    "        with torch.no_grad():\n",
    "            rnn_input_dim = self.features(torch.randn(1, 1, 500,\n",
    "                                                      inputdim)).shape\n",
    "            rnn_input_dim = rnn_input_dim[1] * rnn_input_dim[-1]\n",
    "\n",
    "        self.gru = nn.GRU(rnn_input_dim,\n",
    "                          128,\n",
    "                          bidirectional=True,\n",
    "                          batch_first=True)\n",
    "        self.temp_pool = parse_poolingfunction(kwargs.get(\n",
    "            'temppool', 'linear'),\n",
    "                                               inputdim=256,\n",
    "                                               outputdim=outputdim)\n",
    "        self.outputlayer = nn.Linear(256, outputdim)\n",
    "        self.features.apply(init_weights)\n",
    "        self.outputlayer.apply(init_weights)\n",
    "\n",
    "    def forward(self, x):\n",
    "        batch, time, dim = x.shape\n",
    "        x = x.unsqueeze(1)\n",
    "        x = self.features(x)\n",
    "        x = x.transpose(1, 2).contiguous().flatten(-2)\n",
    "        x, _ = self.gru(x)\n",
    "        decision_time = torch.sigmoid(self.outputlayer(x)).clamp(1e-7, 1.)\n",
    "        decision_time = torch.nn.functional.interpolate(\n",
    "            decision_time.transpose(1, 2),\n",
    "            time,\n",
    "            mode='linear',\n",
    "            align_corners=False).transpose(1, 2)\n",
    "        decision = self.temp_pool(x, decision_time).clamp(1e-7, 1.).squeeze(1)\n",
    "        return decision, decision_time"
   ]
  }
 ],
 "metadata": {
  "interpreter": {
   "hash": "01e2b291520104204c2757690fe854397a0c17b7702d2046cf9d41e45fc90858"
  },
  "kernelspec": {
   "display_name": "Python 3.8.12 ('wav2vec': conda)",
   "language": "python",
   "name": "python3"
  },
  "language_info": {
   "codemirror_mode": {
    "name": "ipython",
    "version": 3
   },
   "file_extension": ".py",
   "mimetype": "text/x-python",
   "name": "python",
   "nbconvert_exporter": "python",
   "pygments_lexer": "ipython3",
   "version": "3.8.12"
  },
  "orig_nbformat": 4
 },
 "nbformat": 4,
 "nbformat_minor": 2
}
